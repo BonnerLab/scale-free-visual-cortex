{
 "cells": [
  {
   "cell_type": "markdown",
   "metadata": {},
   "source": [
    "# Schematic"
   ]
  },
  {
   "cell_type": "code",
   "execution_count": null,
   "metadata": {},
   "outputs": [],
   "source": [
    "%reload_ext autoreload\n",
    "%autoreload 2"
   ]
  },
  {
   "cell_type": "code",
   "execution_count": null,
   "metadata": {
    "lines_to_next_cell": 2
   },
   "outputs": [],
   "source": [
    "import pandas as pd\n",
    "import seaborn as sns\n",
    "import xarray as xr\n",
    "from bonner.datasets.allen2021_natural_scenes import plot_brain_map\n",
    "from bonner.plotting import DEFAULT_MATPLOTLIBRC, add_colorbar, save_figure\n",
    "from matplotlib import pyplot as plt\n",
    "\n",
    "from lib.datasets import (\n",
    "    compute_shared_stimuli,\n",
    "    filter_by_stimulus,\n",
    "    nsd,\n",
    "    split_by_repetition,\n",
    ")\n",
    "from lib.spectra import (\n",
    "    assign_data_to_geometrically_spaced_bins,\n",
    "    compute_spectra_with_n_fold_cross_validation,\n",
    "    compute_spectrum,\n",
    ")\n",
    "from lib.utilities import MANUSCRIPT_HOME\n",
    "\n",
    "FIGURES_HOME = MANUSCRIPT_HOME / \"figures\"\n",
    "\n",
    "REFERENCE_SUBJECT = 0\n",
    "\n",
    "sns.set_theme(\n",
    "    context=\"paper\",\n",
    "    style=\"ticks\",\n",
    "    rc=DEFAULT_MATPLOTLIBRC,\n",
    ")"
   ]
  },
  {
   "cell_type": "code",
   "execution_count": null,
   "metadata": {},
   "outputs": [],
   "source": [
    "dataset = nsd.load_dataset(subject=REFERENCE_SUBJECT, roi=\"general\")\n",
    "dataset = split_by_repetition(\n",
    "    filter_by_stimulus(\n",
    "        dataset,\n",
    "        stimuli=compute_shared_stimuli([dataset], n_repetitions=2),\n",
    "    ),\n",
    "    n_repetitions=2,\n",
    ")"
   ]
  },
  {
   "cell_type": "markdown",
   "metadata": {
    "lines_to_next_cell": 2
   },
   "source": [
    "## Method comparison"
   ]
  },
  {
   "cell_type": "code",
   "execution_count": null,
   "metadata": {
    "lines_to_next_cell": 2
   },
   "outputs": [],
   "source": [
    "spectra = {\n",
    "    \"PCA\": compute_spectrum(\n",
    "        x_train=dataset[0],\n",
    "        y_train=dataset[0],\n",
    "        x_test=dataset[0],\n",
    "        y_test=dataset[0],\n",
    "        normalize=False,\n",
    "    ),\n",
    "    \"cvPCA\": compute_spectrum(\n",
    "        x_train=dataset[0],\n",
    "        y_train=dataset[0],\n",
    "        x_test=dataset[0],\n",
    "        y_test=dataset[1],\n",
    "        normalize=False,\n",
    "    ),\n",
    "    \"cross-decomposition (ours)\": compute_spectra_with_n_fold_cross_validation(\n",
    "        x_train=dataset[0],\n",
    "        y_train=dataset[1],\n",
    "        x_test=dataset[0],\n",
    "        y_test=dataset[1],\n",
    "        n_folds=8,\n",
    "        seed=0,\n",
    "        normalize=False,\n",
    "    ),\n",
    "}\n",
    "n_voxels = dataset[0].sizes[\"neuroid\"]\n",
    "\n",
    "for method, spectrum in spectra.items():\n",
    "    spectra[method] = (\n",
    "        (spectrum / n_voxels)\n",
    "        .assign_coords(\n",
    "            {\n",
    "                \"rank\": (\n",
    "                    \"component\",\n",
    "                    assign_data_to_geometrically_spaced_bins(\n",
    "                        spectrum[\"component\"].data,\n",
    "                        density=3,\n",
    "                        start=1,\n",
    "                        stop=10_000,\n",
    "                    ),\n",
    "                ),\n",
    "            },\n",
    "        )\n",
    "        .groupby(\"rank\")\n",
    "        .mean()\n",
    "        .expand_dims({\"method\": [method]})\n",
    "    )\n",
    "\n",
    "spectra[\"cross-decomposition (ours)\"] = spectra[\"cross-decomposition (ours)\"].mean(\n",
    "    \"fold\",\n",
    ")\n",
    "\n",
    "spectra = xr.concat(spectra.values(), dim=\"method\")\n",
    "spectra = spectra.to_dataframe().reset_index()\n",
    "\n",
    "\n",
    "palette = sns.color_palette(\"tab10\", 3)\n",
    "\n",
    "fig, ax = plt.subplots(figsize=(3, 3))\n",
    "for method in pd.unique(spectra[\"method\"].to_numpy()):\n",
    "    match method:\n",
    "        case \"cross-decomposition (ours)\":\n",
    "            kwargs = {\n",
    "                \"marker\": \"s\",\n",
    "                \"c\": palette[0],\n",
    "                \"mew\": 0,\n",
    "            }\n",
    "        case \"cvPCA\":\n",
    "            kwargs = {\n",
    "                \"marker\": \"^\",\n",
    "                \"c\": \"gray\",\n",
    "                \"mew\": 1,\n",
    "                \"mfc\": \"none\",\n",
    "            }\n",
    "        case \"PCA\":\n",
    "            kwargs = {\n",
    "                \"marker\": \"o\",\n",
    "                \"mew\": 1,\n",
    "                \"c\": \"gray\",\n",
    "                \"mfc\": \"none\",\n",
    "            }\n",
    "        case _:\n",
    "            raise ValueError\n",
    "\n",
    "    spectra_ = spectra.loc[spectra[\"method\"] == method]\n",
    "\n",
    "    ax.plot(\n",
    "        spectra_[\"rank\"],\n",
    "        spectra_[\"covariance\"],\n",
    "        ls=\"None\",\n",
    "        label=method,\n",
    "        **kwargs,\n",
    "    )\n",
    "\n",
    "ax.set_xlim(left=1, right=2e3)\n",
    "ax.set_ylim(bottom=1e-7, top=1e-1)\n",
    "ax.set_title(\"comparison between methods\")\n",
    "ax.set_ylabel(\"covariance\")\n",
    "ax.set_xlabel(\"rank\")\n",
    "ax.set_xscale(\"log\")\n",
    "ax.set_yscale(\"log\")\n",
    "\n",
    "_ = ax.legend(loc=\"lower left\")\n",
    "\n",
    "save_figure(\n",
    "    fig,\n",
    "    filepath=FIGURES_HOME / \"cache\" / \"schematic-method_comparison.svg\",\n",
    ")"
   ]
  },
  {
   "cell_type": "markdown",
   "metadata": {
    "lines_to_next_cell": 2
   },
   "source": [
    "## Activation heatmap"
   ]
  },
  {
   "cell_type": "code",
   "execution_count": null,
   "metadata": {
    "lines_to_next_cell": 2
   },
   "outputs": [],
   "source": [
    "fig, ax = plt.subplots(figsize=(4.5, 2.5))\n",
    "image = ax.imshow(\n",
    "    dataset[0].to_numpy()[:80, :120],\n",
    "    cmap=\"RdBu_r\",\n",
    "    vmin=-3,\n",
    "    vmax=3,\n",
    "    aspect=\"equal\",\n",
    ")\n",
    "cb, _ = add_colorbar(\n",
    "    ax=ax,\n",
    "    mappable=image,\n",
    "    location=\"bottom\",\n",
    ")\n",
    "cb.set_label(\"activations (Z-score)\", rotation=0)\n",
    "cb.set_ticks([-3, -2, -1, 0, 1, 2, 3])\n",
    "ax.set_xlabel(\"voxels\")\n",
    "ax.set_ylabel(\"stimuli\")\n",
    "for spine in (\"left\", \"bottom\"):\n",
    "    ax.spines[spine].set_visible(False)\n",
    "ax.set_xticks([])\n",
    "ax.set_yticks([])\n",
    "ax.xaxis.set_label_position(\"top\")\n",
    "\n",
    "save_figure(\n",
    "    fig,\n",
    "    filepath=FIGURES_HOME / \"cache\" / \"schematic-activation_heatmap.svg\",\n",
    ")"
   ]
  },
  {
   "cell_type": "markdown",
   "metadata": {},
   "source": [
    "## Brain map"
   ]
  },
  {
   "cell_type": "code",
   "execution_count": null,
   "metadata": {},
   "outputs": [],
   "source": [
    "fig, ax = plt.subplots(figsize=(5, 5), subplot_kw={\"projection\": \"3d\"})\n",
    "plot_brain_map(\n",
    "    dataset[0].isel(presentation=2),\n",
    "    ax=ax,\n",
    "    subject=REFERENCE_SUBJECT,\n",
    "    cmap=\"RdBu\",\n",
    "    vmin=-1.5,\n",
    "    vmax=1.5,\n",
    ")\n",
    "ax.set_rasterized(True)\n",
    "save_figure(\n",
    "    fig,\n",
    "    filepath=FIGURES_HOME / \"cache\" / \"schematic-brain_map.png\",\n",
    ")"
   ]
  },
  {
   "cell_type": "markdown",
   "metadata": {},
   "source": [
    "## Equations"
   ]
  },
  {
   "cell_type": "markdown",
   "metadata": {},
   "source": [
    "$$\n",
    "\\begin{align*}\n",
    "    \\text{cov} \\left(X_\\text{train}, Y_\\text{train}\\right)\n",
    "    &= \\dfrac{X_\\text{train}^\\top Y_\\text{train}}{n_\\text{train}}\\\\\n",
    "    &= U \\Sigma V^\\top\n",
    "\\end{align*}\n",
    "$$\n",
    "\n",
    "$$\n",
    "\\begin{align*}\n",
    "    \\Sigma_\\text{test}\n",
    "    &= \\text{cov} \\left(X_\\text{test} U, Y_\\text{test} V\\right)\\\\\n",
    "    &= \\dfrac{\\left(X_\\text{test} U \\right)^\\top \\left(Y_\\text{test} V\\right)}{n_\\text{test}}\\\\\n",
    "\\end{align*}\n",
    "$$\n",
    "\n",
    "$$\n",
    "\\text{cov} \\left(X_\\text{train}, Y_\\text{train}\\right)\n",
    "= X_\\text{train}^\\top Y_\\text{train} / n_\\text{train}\n",
    "= U_\\text{train} \\Sigma_\\text{train} V_\\text{train}^\\top\n",
    "$$\n",
    "\n",
    "$$\n",
    "\\Sigma_\\text{test}\n",
    "= \\text{cov} \\left(X_\\text{test} U_\\text{train}, Y_\\text{test} V_\\text{train}\\right)\n",
    "= \\left(X_\\text{test} U_\\text{train} \\right)^\\top \\left(Y_\\text{test} V_\\text{train}\\right) / n_\\text{test}\n",
    "$$"
   ]
  }
 ],
 "metadata": {
  "kernelspec": {
   "display_name": "neural-dimensionality",
   "language": "python",
   "name": "python3"
  },
  "language_info": {
   "codemirror_mode": {
    "name": "ipython",
    "version": 3
   },
   "file_extension": ".py",
   "mimetype": "text/x-python",
   "name": "python",
   "nbconvert_exporter": "python",
   "pygments_lexer": "ipython3",
   "version": "3.12.4"
  }
 },
 "nbformat": 4,
 "nbformat_minor": 2
}
