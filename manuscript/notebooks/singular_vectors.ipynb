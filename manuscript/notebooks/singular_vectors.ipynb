{
 "cells": [
  {
   "cell_type": "markdown",
   "metadata": {},
   "source": [
    "# Singular vectors"
   ]
  },
  {
   "cell_type": "code",
   "execution_count": null,
   "metadata": {},
   "outputs": [],
   "source": [
    "%reload_ext autoreload\n",
    "%autoreload 2"
   ]
  },
  {
   "cell_type": "code",
   "execution_count": null,
   "metadata": {},
   "outputs": [],
   "source": [
    "import functools\n",
    "from collections.abc import Sequence\n",
    "\n",
    "import seaborn as sns\n",
    "import xarray as xr\n",
    "from bonner.datasets.allen2021_natural_scenes import plot_brain_map\n",
    "from bonner.plotting import DEFAULT_MATPLOTLIBRC, save_figure\n",
    "from matplotlib import pyplot as plt\n",
    "from matplotlib.axes import Axes\n",
    "\n",
    "from lib.datasets import (\n",
    "    compute_shared_stimuli,\n",
    "    filter_by_stimulus,\n",
    "    nsd,\n",
    "    split_by_repetition,\n",
    ")\n",
    "from lib.spectra import CrossDecomposition\n",
    "from lib.utilities import MANUSCRIPT_HOME\n",
    "\n",
    "\n",
    "def plot_row_of_singular_vectors(\n",
    "    *,\n",
    "    ax: Axes,\n",
    "    ranks: Sequence[int],\n",
    "    subject: int,\n",
    "    singular_vectors: xr.DataArray,\n",
    "    bottom: float,\n",
    "    separation: float = 0.15,\n",
    "    height: float = 0.55,\n",
    "    width: float = 0.55,\n",
    ") -> None:\n",
    "    for i_rank, rank in enumerate(reversed(ranks)):\n",
    "        ax_ = ax.inset_axes(\n",
    "            (1 - width - separation * i_rank, bottom, width, height),\n",
    "            projection=\"3d\",\n",
    "            facecolor=None,\n",
    "        )\n",
    "        ax_.set_rasterized(True)\n",
    "\n",
    "        plot_brain_map(\n",
    "            singular_vectors.sel(component=rank),\n",
    "            ax=ax_,\n",
    "            subject=subject,\n",
    "            cmap=\"cold_hot\",\n",
    "            threshold=1e-8,\n",
    "            view=(0, 200),\n",
    "        )\n",
    "        ax_.set_facecolor((1, 1, 1, 0))\n",
    "        ax_.set_title(f\"{rank}\", y=0.9)\n",
    "\n",
    "\n",
    "FIGURES_HOME = MANUSCRIPT_HOME / \"figures\"\n",
    "\n",
    "REFERENCE_SUBJECT = 0\n",
    "\n",
    "sns.set_theme(context=\"paper\", style=\"ticks\", rc=DEFAULT_MATPLOTLIBRC)"
   ]
  },
  {
   "cell_type": "code",
   "execution_count": null,
   "metadata": {},
   "outputs": [],
   "source": [
    "dataset = nsd.load_dataset(subject=REFERENCE_SUBJECT, roi=\"general\")\n",
    "datasets = split_by_repetition(\n",
    "    filter_by_stimulus(\n",
    "        dataset,\n",
    "        stimuli=compute_shared_stimuli([dataset], n_repetitions=2),\n",
    "    ),\n",
    "    n_repetitions=2,\n",
    ")\n",
    "cross_decomposition = CrossDecomposition(randomized=True)\n",
    "cross_decomposition.fit(datasets[0], datasets[1])\n",
    "\n",
    "singular_vectors = cross_decomposition.singular_vectors(direction=\"left\").set_index({\n",
    "    \"neuroid\": [\"x\", \"y\", \"z\"],\n",
    "})"
   ]
  },
  {
   "cell_type": "code",
   "execution_count": null,
   "metadata": {},
   "outputs": [],
   "source": [
    "fig, ax = plt.subplots(figsize=(6, 4))\n",
    "ax.axis(\"off\")\n",
    "\n",
    "func = functools.partial(\n",
    "    plot_row_of_singular_vectors,\n",
    "    ax=ax,\n",
    "    singular_vectors=singular_vectors,\n",
    "    subject=REFERENCE_SUBJECT,\n",
    ")\n",
    "func(\n",
    "    ranks=[1, 2, 3, 4, 5, 10],\n",
    "    bottom=0.5,\n",
    ")\n",
    "func(\n",
    "    ranks=[20, 50, 100, 500, 1000, 5000],\n",
    "    bottom=0.05,\n",
    ")\n",
    "\n",
    "save_figure(\n",
    "    fig,\n",
    "    filepath=FIGURES_HOME / \"singular-vectors.pdf\",\n",
    "    dpi=300,\n",
    ")"
   ]
  }
 ],
 "metadata": {
  "kernelspec": {
   "display_name": "neural-dimensionality",
   "language": "python",
   "name": "python3"
  },
  "language_info": {
   "codemirror_mode": {
    "name": "ipython",
    "version": 3
   },
   "file_extension": ".py",
   "mimetype": "text/x-python",
   "name": "python",
   "nbconvert_exporter": "python",
   "pygments_lexer": "ipython3",
   "version": "3.12.4"
  }
 },
 "nbformat": 4,
 "nbformat_minor": 2
}
